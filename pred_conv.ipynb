{
 "cells": [
  {
   "cell_type": "code",
   "execution_count": 1,
   "id": "ea9a24f1",
   "metadata": {},
   "outputs": [
    {
     "data": {
      "text/plain": [
       "True"
      ]
     },
     "execution_count": 1,
     "metadata": {},
     "output_type": "execute_result"
    }
   ],
   "source": [
    "# packages\n",
    "\n",
    "import os\n",
    "from dotenv import load_dotenv, find_dotenv\n",
    "from autogen import ConversableAgent\n",
    "\n",
    "# load the environment variables\n",
    "load_dotenv(find_dotenv(usecwd=True))"
   ]
  },
  {
   "cell_type": "code",
   "execution_count": 6,
   "id": "31cc0730",
   "metadata": {},
   "outputs": [],
   "source": [
    "# define the function to predict\n",
    "\n",
    "def predict_conversation(user_prompt: str, number_of_turns: int, style_a: str, style_b: str):\n",
    "    llm_config = {\n",
    "        \"config_list\":[\n",
    "            {\n",
    "                \"model\": \"gpt-4o-mini\",\n",
    "                \"temperature\": 0.9,\n",
    "                \"api_key\": os.environ.get(\"OPENAI_API_KEY\")\n",
    "            }\n",
    "        ]\n",
    "    }\n",
    "\n",
    "    person_a = ConversableAgent(\n",
    "        name=\"user\",\n",
    "        system_message=f\"\"\"\n",
    "        You are a person who believes that {user_prompt}.\n",
    "        You try to convince others of this.\n",
    "        You answer in a {style_a} way.\n",
    "        Answr very short and concise.\n",
    "        \"\"\",\n",
    "        llm_config=llm_config,\n",
    "        human_input_mode=\"NEVER\",\n",
    "    )\n",
    "\n",
    "    person_b = ConversableAgent(\n",
    "        name=\"ai\",\n",
    "        system_message=f\"\"\"\n",
    "        You are a person who believes the opposite of {user_prompt}.\n",
    "        You answer in a {style_b} way.\n",
    "        Answr very short and concise.\n",
    "        \"\"\",\n",
    "        llm_config=llm_config,\n",
    "        human_input_mode=\"NEVER\",\n",
    "    )\n",
    "\n",
    "    # Start the conversation\n",
    "\n",
    "    result = person_a.initiate_chat(\n",
    "        recipient=person_b,\n",
    "        message=user_prompt,\n",
    "        max_turns=number_of_turns\n",
    "    )\n",
    "\n",
    "    messages = result.chat_history\n",
    "    return messages"
   ]
  }
 ],
 "metadata": {
  "kernelspec": {
   "display_name": "rheinwerk-appliedgenai",
   "language": "python",
   "name": "python3"
  },
  "language_info": {
   "codemirror_mode": {
    "name": "ipython",
    "version": 3
   },
   "file_extension": ".py",
   "mimetype": "text/x-python",
   "name": "python",
   "nbconvert_exporter": "python",
   "pygments_lexer": "ipython3",
   "version": "3.12.11"
  }
 },
 "nbformat": 4,
 "nbformat_minor": 5
}
